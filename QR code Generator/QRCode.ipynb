{
 "cells": [
  {
   "cell_type": "markdown",
   "id": "6a382380",
   "metadata": {},
   "source": [
    "# QRCode "
   ]
  },
  {
   "cell_type": "code",
   "execution_count": 6,
   "id": "fcfa1b9f",
   "metadata": {},
   "outputs": [
    {
     "name": "stdout",
     "output_type": "stream",
     "text": [
      "                                     \n",
      "                                     \n",
      "    █▀▀▀▀▀█ ▀ █ ▀   ▄▄▀▄  █▀▀▀▀▀█    \n",
      "    █ ███ █ ▄▀█ █▀▄██▀ █▀ █ ███ █    \n",
      "    █ ▀▀▀ █ █ ▄ ███▄▀ █▄▄ █ ▀▀▀ █    \n",
      "    ▀▀▀▀▀▀▀ █ █ ▀ █ ▀▄▀ ▀ ▀▀▀▀▀▀▀    \n",
      "    ▀▄▄▄█▄▀██▄█▄█▀▀▀▀▀ ▀█▀████▄ █    \n",
      "    ▄█▀ ▄ ▀▀██▄▀▄█▀█▄█  ▄█▄▀ █▀▄█    \n",
      "     ███▄ ▀██▄▀▄ █▄ ▄█ ▀▀▀▄█▄▀ ▀█    \n",
      "    ▄▄▀  ▄▀▄██    ▄ ▀█▄ ▄ ██ █▀ █    \n",
      "    █▄ ▄▄█▀  ▄ ▀ ▀▀▀▀▀  ▀ ▄ ▄▀ ▀▄    \n",
      "      ▄██ ▀▄▀ ▄▀ █▀█▄█▀▄ ██ ██  ▀    \n",
      "    ▀▀  ▀ ▀▀█▄█ ▄█▄ ▄█▄▀█▀▀▀█▀▄█     \n",
      "    █▀▀▀▀▀█ ▀▀ ██ ▄ ▀█ ██ ▀ █▀ ▄▀    \n",
      "    █ ███ █ ▀██▄ ▀▀▀ █▄▀▀█▀▀▀█▄█▀    \n",
      "    █ ▀▀▀ █  ▄▄▀▀▀█▀▀▄█▀█ ▄▄ ▄ ██    \n",
      "    ▀▀▀▀▀▀▀ ▀ ▀▀▀▀ ▀ ▀  ▀▀▀▀▀  ▀     \n",
      "                                     \n",
      "                                     \n",
      "\n"
     ]
    }
   ],
   "source": [
    "import io\n",
    "import qrcode\n",
    "qr = qrcode.QRCode()\n",
    "qr.add_data(\"Welcome to the world of python\")\n",
    "f = io.StringIO()\n",
    "qr.print_ascii(out =f)\n",
    "f.seek(0)\n",
    "print(f.read())\n"
   ]
  },
  {
   "cell_type": "code",
   "execution_count": null,
   "id": "7d45ae66",
   "metadata": {},
   "outputs": [],
   "source": []
  }
 ],
 "metadata": {
  "kernelspec": {
   "display_name": "Python 3 (ipykernel)",
   "language": "python",
   "name": "python3"
  },
  "language_info": {
   "codemirror_mode": {
    "name": "ipython",
    "version": 3
   },
   "file_extension": ".py",
   "mimetype": "text/x-python",
   "name": "python",
   "nbconvert_exporter": "python",
   "pygments_lexer": "ipython3",
   "version": "3.10.2"
  }
 },
 "nbformat": 4,
 "nbformat_minor": 5
}
